{
 "cells": [
  {
   "cell_type": "code",
   "execution_count": 1,
   "id": "dca716f7-2081-4708-9679-53e166e4b040",
   "metadata": {},
   "outputs": [
    {
     "name": "stdout",
     "output_type": "stream",
     "text": [
      "Min:1,Max:5,avgerage:3.0\n"
     ]
    }
   ],
   "source": [
    "def allnum(n):\n",
    "    return min(n),max(n),sum(n)/len(n)\n",
    "min_val,max_val,avg=allnum([1,2,3,4,5])\n",
    "print(f\"Min:{min_val},Max:{max_val},avgerage:{avg}\")\n"
   ]
  },
  {
   "cell_type": "code",
   "execution_count": 5,
   "id": "90255f8c-f4c7-47c9-914a-e5d0d0249819",
   "metadata": {},
   "outputs": [
    {
     "name": "stdout",
     "output_type": "stream",
     "text": [
      "5\n"
     ]
    }
   ],
   "source": [
    "\"direct\"\n",
    "def fact(n):\n",
    "    if n==0 or n==1:\n",
    "        return 1\n",
    "    return n*fact(n=1)\n",
    "print(fact(5))"
   ]
  },
  {
   "cell_type": "code",
   "execution_count": 15,
   "id": "ff15871e-d82b-4515-8055-04dc714a5026",
   "metadata": {},
   "outputs": [
    {
     "name": "stdout",
     "output_type": "stream",
     "text": [
      "False\n",
      "False\n"
     ]
    }
   ],
   "source": [
    "\"indirect\"\n",
    "def e(n):\n",
    "    if n==0:\n",
    "        return True\n",
    "    return o(n-1)\n",
    "def o(n):\n",
    "    if n==0:\n",
    "        return False\n",
    "    return e(n-1)\n",
    "print(e(9))\n",
    "print(o(4))"
   ]
  },
  {
   "cell_type": "code",
   "execution_count": 23,
   "id": "2f2acc55-d4f9-484f-9ceb-f26c23302745",
   "metadata": {},
   "outputs": [
    {
     "name": "stdout",
     "output_type": "stream",
     "text": [
      "120\n"
     ]
    }
   ],
   "source": [
    "\"tail\"\n",
    "\n",
    "def fact(n, t=1):\n",
    "    if n==0 or n==1:\n",
    "        return t\n",
    "    return fact (n-1,n*t)\n",
    "print(fact(5))"
   ]
  },
  {
   "cell_type": "code",
   "execution_count": 31,
   "id": "51beacfc-814c-40d2-a0d0-a93ff7e5546f",
   "metadata": {},
   "outputs": [
    {
     "name": "stdout",
     "output_type": "stream",
     "text": [
      "21\n"
     ]
    }
   ],
   "source": [
    "\"linear\"\n",
    "def total(n):\n",
    "    if n<=0:\n",
    "        return 0\n",
    "    return n+total(n-1)\n",
    "print(total(6))"
   ]
  },
  {
   "cell_type": "code",
   "execution_count": 39,
   "id": "c4e53a83-cb59-4b98-9715-3e401ac0a553",
   "metadata": {},
   "outputs": [
    {
     "name": "stdout",
     "output_type": "stream",
     "text": [
      "12\n",
      "6\n"
     ]
    }
   ],
   "source": [
    "\"nested recursion super fact \"\n",
    "def sfact(n):\n",
    "    if n<=0:\n",
    "        return 1\n",
    "    return fact(n)*sfact(n-1)\n",
    "def fact(n):\n",
    "    if n<=1:\n",
    "        return 1\n",
    "    return n*fact(n-1)\n",
    "print(sfact(3))\n",
    "print(fact(3))"
   ]
  },
  {
   "cell_type": "code",
   "execution_count": 45,
   "id": "6594e405-adaa-4aad-98b4-d6e43633f8e6",
   "metadata": {},
   "outputs": [
    {
     "name": "stdout",
     "output_type": "stream",
     "text": [
      "27\n",
      "65536\n"
     ]
    }
   ],
   "source": [
    "\"power tower\"\n",
    "def pt(a,n):\n",
    "    if n==1:\n",
    "        return a\n",
    "    return a**pt(a,n-1)\n",
    "print(pt(3,2))\n",
    "print(pt(2,4))"
   ]
  },
  {
   "cell_type": "code",
   "execution_count": null,
   "id": "2ad40ad2-2599-464d-bd7f-887d5a6edebc",
   "metadata": {},
   "outputs": [],
   "source": []
  }
 ],
 "metadata": {
  "kernelspec": {
   "display_name": "Python 3 (ipykernel)",
   "language": "python",
   "name": "python3"
  },
  "language_info": {
   "codemirror_mode": {
    "name": "ipython",
    "version": 3
   },
   "file_extension": ".py",
   "mimetype": "text/x-python",
   "name": "python",
   "nbconvert_exporter": "python",
   "pygments_lexer": "ipython3",
   "version": "3.12.7"
  }
 },
 "nbformat": 4,
 "nbformat_minor": 5
}
