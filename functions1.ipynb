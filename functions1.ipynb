{
 "cells": [
  {
   "cell_type": "code",
   "execution_count": 1,
   "id": "03a1fb1a-97d6-48de-bbe0-2ee9dd73de94",
   "metadata": {},
   "outputs": [
    {
     "name": "stdout",
     "output_type": "stream",
     "text": [
      "hello students\n",
      "teja teja teja teja teja \n"
     ]
    }
   ],
   "source": [
    "def hi():\n",
    "    print(\"hello students\")\n",
    "    print(\"teja \"*5)\n",
    "hi()"
   ]
  },
  {
   "cell_type": "code",
   "execution_count": 7,
   "id": "20755870-97da-4903-98a8-3cdf4913e201",
   "metadata": {},
   "outputs": [
    {
     "name": "stdin",
     "output_type": "stream",
     "text": [
      "enter the money:  10\n",
      "enter the money:  10\n"
     ]
    },
    {
     "name": "stdout",
     "output_type": "stream",
     "text": [
      "total amount: 20\n"
     ]
    }
   ],
   "source": [
    "#function with parameters\n",
    "def add(a,b):\n",
    "    return a+b\n",
    "student1=int(input(\"enter the money: \"))\n",
    "student2=int(input(\"enter the money: \"))\n",
    "total= add(student1, student2)\n",
    "print(\"total amount:\", total)\n"
   ]
  },
  {
   "cell_type": "code",
   "execution_count": 15,
   "id": "0a6e4894-cf3d-41d2-9dcf-0916edbec4a9",
   "metadata": {},
   "outputs": [
    {
     "name": "stdin",
     "output_type": "stream",
     "text": [
      "enter the money:  10\n",
      "enter the money:  15\n"
     ]
    },
    {
     "name": "stdout",
     "output_type": "stream",
     "text": [
      "total: 25\n"
     ]
    }
   ],
   "source": [
    "#function with parameters/return value\n",
    "def add(student1,student2):\n",
    "    print(\"total:\",student1 + student2)\n",
    "student1=int(input(\"enter the money: \"))\n",
    "student2=int(input(\"enter the money: \"))\n",
    "add(student1,student2)\n"
   ]
  },
  {
   "cell_type": "code",
   "execution_count": 17,
   "id": "7fb14e9b-a746-4518-a4e1-d4114de8aa42",
   "metadata": {},
   "outputs": [
    {
     "name": "stdout",
     "output_type": "stream",
     "text": [
      "value in the function is 3.14159\n"
     ]
    }
   ],
   "source": [
    "def value():\n",
    "    return 3.14159\n",
    "result=value()\n",
    "print(\"value in the function is\",result)"
   ]
  },
  {
   "cell_type": "code",
   "execution_count": 23,
   "id": "c50e0e67-9720-46d6-9949-d62224256780",
   "metadata": {},
   "outputs": [
    {
     "name": "stdin",
     "output_type": "stream",
     "text": [
      "enter the name:  teja\n"
     ]
    },
    {
     "name": "stdout",
     "output_type": "stream",
     "text": [
      "welcome teja\n"
     ]
    }
   ],
   "source": [
    "def get_name():\n",
    "    name=input(\"enter the name: \")\n",
    "    return name\n",
    "username= get_name()\n",
    "print(\"welcome\",username)"
   ]
  },
  {
   "cell_type": "code",
   "execution_count": 25,
   "id": "82b83f22-d781-4edd-bde9-a4605de8e055",
   "metadata": {},
   "outputs": [
    {
     "name": "stdout",
     "output_type": "stream",
     "text": [
      "100\n"
     ]
    }
   ],
   "source": [
    "a=100\n",
    "def value(a):\n",
    "    return a\n",
    "print(value(a))"
   ]
  },
  {
   "cell_type": "code",
   "execution_count": 27,
   "id": "5fa8c551-e00a-4b6e-ba88-37f54aa42762",
   "metadata": {},
   "outputs": [
    {
     "name": "stdout",
     "output_type": "stream",
     "text": [
      "120\n"
     ]
    }
   ],
   "source": [
    "a=100\n",
    "def value(a):\n",
    "    return a+20\n",
    "print(value(a))"
   ]
  },
  {
   "cell_type": "code",
   "execution_count": 31,
   "id": "268a0dc9-6e5b-4a6e-87dc-e848778895d8",
   "metadata": {},
   "outputs": [
    {
     "name": "stdin",
     "output_type": "stream",
     "text": [
      "enter data: teja\n"
     ]
    },
    {
     "name": "stdout",
     "output_type": "stream",
     "text": [
      "hello guest\n"
     ]
    }
   ],
   "source": [
    "def hi(name='guest'):\n",
    "    print(\"hello\",name)\n",
    "a=input(\"enter data:\")\n",
    "hi()"
   ]
  },
  {
   "cell_type": "code",
   "execution_count": 33,
   "id": "a863d666-fc8c-4ab4-bd13-ce3ecd9a7391",
   "metadata": {},
   "outputs": [
    {
     "name": "stdin",
     "output_type": "stream",
     "text": [
      "enter data: t e j a\n"
     ]
    },
    {
     "name": "stdout",
     "output_type": "stream",
     "text": [
      "hello guest\n",
      "hello t e j a\n"
     ]
    }
   ],
   "source": [
    "def hi(name='guest'):\n",
    "    print(\"hello\",name)\n",
    "a=input(\"enter data:\")\n",
    "hi()\n",
    "hi(a)"
   ]
  },
  {
   "cell_type": "code",
   "execution_count": 39,
   "id": "b572ee48-cf85-4810-bfc9-0a0edddb296a",
   "metadata": {},
   "outputs": [
    {
     "name": "stdout",
     "output_type": "stream",
     "text": [
      "name: teja\n",
      "age: 19\n",
      "name: mark\n",
      "age: 0\n",
      "name: unkown\n",
      "age: 33\n",
      "name: unkown\n",
      "age: 0\n"
     ]
    }
   ],
   "source": [
    "def info(name='unkown', age=0):\n",
    "    print(\"name:\",name)\n",
    "    print(\"age:\",age)\n",
    "info(\"teja\", 19)\n",
    "info(\"mark\")\n",
    "info(age=33)\n",
    "info()\n",
    "    "
   ]
  },
  {
   "cell_type": "code",
   "execution_count": 41,
   "id": "eda3148d-0b78-4500-90b2-d98bc1447757",
   "metadata": {},
   "outputs": [
    {
     "name": "stdin",
     "output_type": "stream",
     "text": [
      "enter a: 2\n",
      "enter b: 4\n"
     ]
    },
    {
     "name": "stdout",
     "output_type": "stream",
     "text": [
      "sum= 6\n"
     ]
    }
   ],
   "source": [
    "def cal(a,b):\n",
    "    return a+b\n",
    "a=int(input(\"enter a:\"))\n",
    "b=int(input(\"enter b:\"))\n",
    "sum=cal(a,b)\n",
    "print(\"sum=\", sum)\n",
    "\n",
    "            "
   ]
  },
  {
   "cell_type": "code",
   "execution_count": 43,
   "id": "cb1fc5bb-3bbc-4999-a463-9574e34e5d56",
   "metadata": {},
   "outputs": [
    {
     "name": "stdin",
     "output_type": "stream",
     "text": [
      "enter a: 2\n",
      "enter b: 4\n"
     ]
    },
    {
     "name": "stdout",
     "output_type": "stream",
     "text": [
      "sum= 6\n",
      "subraction= -2\n",
      "prouduct= 8\n",
      "division= 0.5\n"
     ]
    }
   ],
   "source": [
    "def cal(a,b):\n",
    "    return a+b, a-b, a*b, a/b\n",
    "a=int(input(\"enter a:\"))\n",
    "b=int(input(\"enter b:\"))\n",
    "sum, diff, pro, div= cal(a,b)\n",
    "print(\"sum=\", sum)\n",
    "print(\"subraction=\", diff)\n",
    "print(\"prouduct=\", pro)\n",
    "print(\"division=\", div)\n"
   ]
  },
  {
   "cell_type": "code",
   "execution_count": 45,
   "id": "a364aefa-13c5-4288-83a7-c92e922ebd3f",
   "metadata": {},
   "outputs": [
    {
     "name": "stdin",
     "output_type": "stream",
     "text": [
      "enter a: 6\n",
      "enter b: 2\n"
     ]
    },
    {
     "name": "stdout",
     "output_type": "stream",
     "text": [
      "sum= 8\n",
      "subraction= 4\n",
      "prouduct= 12\n",
      "division= 3.0\n"
     ]
    }
   ],
   "source": [
    "def cal(a,b):\n",
    "    return a+b, a-b, a*b, a/b\n",
    "a=int(input(\"enter a:\"))\n",
    "b=int(input(\"enter b:\"))\n",
    "sum, diff, pro, div= cal(a,b)\n",
    "print(\"sum=\", sum)\n",
    "print(\"subraction=\", diff)\n",
    "print(\"prouduct=\", pro)\n",
    "print(\"division=\", div)\n"
   ]
  },
  {
   "cell_type": "code",
   "execution_count": 49,
   "id": "bcb63c5f-fb9b-4530-9bd2-56ea52347755",
   "metadata": {},
   "outputs": [
    {
     "name": "stdin",
     "output_type": "stream",
     "text": [
      "enter a: 9\n",
      "enter b: -4\n",
      "enter c: 22\n"
     ]
    },
    {
     "name": "stdout",
     "output_type": "stream",
     "text": [
      "maximum: 22\n",
      "minimum: -4\n"
     ]
    }
   ],
   "source": [
    "def max_min(a,b,c):\n",
    "    return max(a,b,c), min(a,b,c)\n",
    "a=int(input(\"enter a:\"))\n",
    "b=int(input(\"enter b:\"))\n",
    "c=int(input(\"enter c:\"))\n",
    "maxi, mini=max_min(a,b,c)\n",
    "print(\"maximum:\",maxi)\n",
    "print(\"minimum:\",mini)\n",
    "\n"
   ]
  },
  {
   "cell_type": "code",
   "execution_count": 51,
   "id": "856bc627-9949-4398-b0b3-cf3c157a3f76",
   "metadata": {},
   "outputs": [
    {
     "name": "stdin",
     "output_type": "stream",
     "text": [
      "enter the number as space seperated:  10 11 23 44 55 66 99\n"
     ]
    },
    {
     "name": "stdout",
     "output_type": "stream",
     "text": [
      "even count: 3\n",
      "odd count: 4\n"
     ]
    }
   ],
   "source": [
    "''' wrirte a funccction to count the list of even and odd numbers...calculate the even odd confirmation in\n",
    "in the funtion such that evaluted number list will be passed to the main program'''\n",
    "\n",
    "def eo(numbers):\n",
    "    e=0\n",
    "    o=0\n",
    "    for n in numbers:\n",
    "        if n % 2 ==0:\n",
    "            e+=1\n",
    "        else:\n",
    "            o+=1\n",
    "    return e,o\n",
    "num=input(\"enter the number as space seperated: \")\n",
    "num_list=list(map(int, num.split()))\n",
    "e,o=eo(num_list)\n",
    "print(\"even count:\",e)\n",
    "print(\"odd count:\",o)\n"
   ]
  },
  {
   "cell_type": "code",
   "execution_count": null,
   "id": "df751055-622e-4dfd-8308-38392d8552e9",
   "metadata": {},
   "outputs": [],
   "source": []
  }
 ],
 "metadata": {
  "kernelspec": {
   "display_name": "Python 3 (ipykernel)",
   "language": "python",
   "name": "python3"
  },
  "language_info": {
   "codemirror_mode": {
    "name": "ipython",
    "version": 3
   },
   "file_extension": ".py",
   "mimetype": "text/x-python",
   "name": "python",
   "nbconvert_exporter": "python",
   "pygments_lexer": "ipython3",
   "version": "3.12.7"
  }
 },
 "nbformat": 4,
 "nbformat_minor": 5
}
