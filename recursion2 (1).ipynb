{
 "cells": [
  {
   "cell_type": "code",
   "execution_count": 7,
   "id": "f91794df-fc76-4b3e-9db5-ae3b11a14d9c",
   "metadata": {},
   "outputs": [
    {
     "name": "stdin",
     "output_type": "stream",
     "text": [
      "enter number of terms to print 10\n"
     ]
    },
    {
     "name": "stdout",
     "output_type": "stream",
     "text": [
      "fibonacci series......\n",
      "0 1 1 2 3 5 8 13 21 34 "
     ]
    }
   ],
   "source": [
    "# fib on tree recrusions 0 1 1 2 3 5 8\n",
    "def fib(n):\n",
    "    if n<=1:\n",
    "        return n\n",
    "    return fib(n-1)+fib(n-2)\n",
    "terms = int(input(\"enter number of terms to print\"))\n",
    "print(\"fibonacci series......\")\n",
    "for i in range(terms):\n",
    "    print(fib(i), end=' ')"
   ]
  },
  {
   "cell_type": "code",
   "execution_count": 11,
   "id": "861691b8-4295-4e79-9b06-c8d5f183cd5e",
   "metadata": {},
   "outputs": [
    {
     "name": "stdin",
     "output_type": "stream",
     "text": [
      "enter a name/word:  abc\n"
     ]
    },
    {
     "name": "stdout",
     "output_type": "stream",
     "text": [
      "possibilities of combination.....\n",
      " abc\n",
      " acb\n",
      " bac\n",
      " bca\n",
      " cab\n",
      " cba\n"
     ]
    }
   ],
   "source": [
    "''' permutations of char in tree recursion'''\n",
    "def permute(s, bucket=' '):\n",
    "    if not s:\n",
    "        print(bucket)\n",
    "        return\n",
    "    for i in range(len(s)):\n",
    "        ns=s[:i]+s[i+1:]\n",
    "        permute(ns, bucket+s[i])   \n",
    "text=input(\"enter a name/word: \")\n",
    "print(\"possibilities of combination.....\")\n",
    "permute(text)\n"
   ]
  },
  {
   "cell_type": "code",
   "execution_count": 13,
   "id": "79c419c8-bc1c-42b4-afe2-68a7c30ee91f",
   "metadata": {},
   "outputs": [
    {
     "name": "stdin",
     "output_type": "stream",
     "text": [
      "enter a name/word:  teja\n"
     ]
    },
    {
     "name": "stdout",
     "output_type": "stream",
     "text": [
      "possibilities of combination.....\n",
      " teja\n",
      " teaj\n",
      " tjea\n",
      " tjae\n",
      " taej\n",
      " taje\n",
      " etja\n",
      " etaj\n",
      " ejta\n",
      " ejat\n",
      " eatj\n",
      " eajt\n",
      " jtea\n",
      " jtae\n",
      " jeta\n",
      " jeat\n",
      " jate\n",
      " jaet\n",
      " atej\n",
      " atje\n",
      " aetj\n",
      " aejt\n",
      " ajte\n",
      " ajet\n"
     ]
    }
   ],
   "source": [
    "''' permutations of char in tree recursion'''\n",
    "def permute(s, bucket=' '):\n",
    "    if not s:\n",
    "        print(bucket)\n",
    "        return\n",
    "    for i in range(len(s)):\n",
    "        ns=s[:i]+s[i+1:]\n",
    "        permute(ns, bucket+s[i])   \n",
    "text=input(\"enter a name/word: \")\n",
    "print(\"possibilities of combination.....\")\n",
    "permute(text)"
   ]
  },
  {
   "cell_type": "code",
   "execution_count": 17,
   "id": "07b9e51e-44ca-423f-b425-d62078eb350f",
   "metadata": {},
   "outputs": [
    {
     "name": "stdin",
     "output_type": "stream",
     "text": [
      "enter length of string:  2\n"
     ]
    },
    {
     "name": "stdout",
     "output_type": "stream",
     "text": [
      "binary combination.....\n",
      " 00\n",
      " 01\n",
      " 10\n",
      " 11\n"
     ]
    }
   ],
   "source": [
    "''' binary combinations of tree recursion'''\n",
    "def binary(n, b=' '):\n",
    "    if n==0:\n",
    "        print(b)\n",
    "        return\n",
    "    binary(n-1, b+'0')\n",
    "    binary(n-1, b+'1')\n",
    "length=int(input(\"enter length of string: \"))\n",
    "print(\"binary combination.....\")\n",
    "binary(length)"
   ]
  },
  {
   "cell_type": "code",
   "execution_count": 19,
   "id": "801d66e5-1976-4154-94e2-1dba2072d5c8",
   "metadata": {},
   "outputs": [
    {
     "name": "stdin",
     "output_type": "stream",
     "text": [
      "enter length of string:  3\n"
     ]
    },
    {
     "name": "stdout",
     "output_type": "stream",
     "text": [
      "binary combination.....\n",
      " 000\n",
      " 001\n",
      " 010\n",
      " 011\n",
      " 100\n",
      " 101\n",
      " 110\n",
      " 111\n"
     ]
    }
   ],
   "source": [
    "def binary(n, b=' '):\n",
    "    if n==0:\n",
    "        print(b)\n",
    "        return\n",
    "    binary(n-1, b+'0')\n",
    "    binary(n-1, b+'1')\n",
    "length=int(input(\"enter length of string: \"))\n",
    "print(\"binary combination.....\")\n",
    "binary(length)"
   ]
  },
  {
   "cell_type": "code",
   "execution_count": 21,
   "id": "86688bb5-cf15-4282-ba47-ca36ee1a2aaf",
   "metadata": {},
   "outputs": [
    {
     "name": "stdin",
     "output_type": "stream",
     "text": [
      "enter length of string:  4\n"
     ]
    },
    {
     "name": "stdout",
     "output_type": "stream",
     "text": [
      "binary combination.....\n",
      " 0000\n",
      " 0001\n",
      " 0010\n",
      " 0011\n",
      " 0100\n",
      " 0101\n",
      " 0110\n",
      " 0111\n",
      " 1000\n",
      " 1001\n",
      " 1010\n",
      " 1011\n",
      " 1100\n",
      " 1101\n",
      " 1110\n",
      " 1111\n"
     ]
    }
   ],
   "source": [
    "def binary(n, b=' '):\n",
    "    if n==0:\n",
    "        print(b)\n",
    "        return\n",
    "    binary(n-1, b+'0')\n",
    "    binary(n-1, b+'1')\n",
    "length=int(input(\"enter length of string: \"))\n",
    "print(\"binary combination.....\")\n",
    "binary(length)"
   ]
  },
  {
   "cell_type": "code",
   "execution_count": 25,
   "id": "b64fca7d-15f6-4f02-8094-1a08918b87eb",
   "metadata": {},
   "outputs": [
    {
     "name": "stdin",
     "output_type": "stream",
     "text": [
      "enter a number: 5\n"
     ]
    },
    {
     "name": "stdout",
     "output_type": "stream",
     "text": [
      "1\n",
      "2\n",
      "3\n",
      "4\n",
      "5\n"
     ]
    }
   ],
   "source": [
    "# head recursion \n",
    "def head(n):\n",
    "    if n==0:\n",
    "        return\n",
    "    head(n-1)\n",
    "    print(n)\n",
    "num=int(input(\"enter a number:\"))\n",
    "head(num)"
   ]
  },
  {
   "cell_type": "code",
   "execution_count": 29,
   "id": "d626e5fa-620c-4d1c-9134-049afa2ead27",
   "metadata": {},
   "outputs": [
    {
     "name": "stdin",
     "output_type": "stream",
     "text": [
      "enter a number: 5\n"
     ]
    },
    {
     "name": "stdout",
     "output_type": "stream",
     "text": [
      "5\n",
      "4\n",
      "3\n",
      "2\n",
      "1\n"
     ]
    }
   ],
   "source": [
    "# tail recursion \n",
    "def tail(n):\n",
    "    if n==0:\n",
    "        return\n",
    "    print(n)\n",
    "    tail(n-1)\n",
    "num=int(input(\"enter a number:\"))\n",
    "tail(num)"
   ]
  },
  {
   "cell_type": "code",
   "execution_count": 35,
   "id": "40c1aab6-b681-4f05-8e78-fde846c538c7",
   "metadata": {},
   "outputs": [
    {
     "name": "stdin",
     "output_type": "stream",
     "text": [
      "enter a number: 5\n"
     ]
    },
    {
     "name": "stdout",
     "output_type": "stream",
     "text": [
      "sum: 15\n"
     ]
    }
   ],
   "source": [
    "# head recursion with sum\n",
    "def sumhead(n):\n",
    "    if n==0:\n",
    "        return 0\n",
    "    return n+sumhead(n-1)\n",
    "num=int(input(\"enter a number:\"))\n",
    "print(\"sum:\",sumhead(num))"
   ]
  },
  {
   "cell_type": "code",
   "execution_count": 41,
   "id": "4dc96e26-7f21-4770-9d5f-88bb9d147214",
   "metadata": {},
   "outputs": [
    {
     "name": "stdin",
     "output_type": "stream",
     "text": [
      "enter a number: 5\n"
     ]
    },
    {
     "name": "stdout",
     "output_type": "stream",
     "text": [
      "sum: 15\n"
     ]
    }
   ],
   "source": [
    "# tail recursion with sum\n",
    "def sumtail(n, temp=0):\n",
    "    if n==0:\n",
    "        return temp\n",
    "    return n+sumtail(n-1, temp=0)\n",
    "num=int(input(\"enter a number:\"))\n",
    "print(\"sum:\",sumtail(num))"
   ]
  },
  {
   "cell_type": "code",
   "execution_count": null,
   "id": "8ae66fd2-3755-4f8c-9c9d-80a5739ba050",
   "metadata": {},
   "outputs": [],
   "source": []
  }
 ],
 "metadata": {
  "kernelspec": {
   "display_name": "Python 3 (ipykernel)",
   "language": "python",
   "name": "python3"
  },
  "language_info": {
   "codemirror_mode": {
    "name": "ipython",
    "version": 3
   },
   "file_extension": ".py",
   "mimetype": "text/x-python",
   "name": "python",
   "nbconvert_exporter": "python",
   "pygments_lexer": "ipython3",
   "version": "3.12.7"
  }
 },
 "nbformat": 4,
 "nbformat_minor": 5
}
