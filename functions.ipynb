{
 "cells": [
  {
   "cell_type": "code",
   "execution_count": 1,
   "id": "03a1fb1a-97d6-48de-bbe0-2ee9dd73de94",
   "metadata": {},
   "outputs": [
    {
     "name": "stdout",
     "output_type": "stream",
     "text": [
      "hello students\n",
      "teja teja teja teja teja \n"
     ]
    }
   ],
   "source": [
    "def hi():\n",
    "    print(\"hello students\")\n",
    "    print(\"teja \"*5)\n",
    "hi()"
   ]
  },
  {
   "cell_type": "code",
   "execution_count": 7,
   "id": "20755870-97da-4903-98a8-3cdf4913e201",
   "metadata": {},
   "outputs": [
    {
     "name": "stdin",
     "output_type": "stream",
     "text": [
      "enter the money:  10\n",
      "enter the money:  10\n"
     ]
    },
    {
     "name": "stdout",
     "output_type": "stream",
     "text": [
      "total amount: 20\n"
     ]
    }
   ],
   "source": [
    "#function with parameters\n",
    "def add(a,b):\n",
    "    return a+b\n",
    "student1=int(input(\"enter the money: \"))\n",
    "student2=int(input(\"enter the money: \"))\n",
    "total= add(student1, student2)\n",
    "print(\"total amount:\", total)\n"
   ]
  },
  {
   "cell_type": "code",
   "execution_count": 15,
   "id": "0a6e4894-cf3d-41d2-9dcf-0916edbec4a9",
   "metadata": {},
   "outputs": [
    {
     "name": "stdin",
     "output_type": "stream",
     "text": [
      "enter the money:  10\n",
      "enter the money:  15\n"
     ]
    },
    {
     "name": "stdout",
     "output_type": "stream",
     "text": [
      "total: 25\n"
     ]
    }
   ],
   "source": [
    "#function with parameters/return value\n",
    "def add(student1,student2):\n",
    "    print(\"total:\",student1 + student2)\n",
    "student1=int(input(\"enter the money: \"))\n",
    "student2=int(input(\"enter the money: \"))\n",
    "add(student1,student2)\n"
   ]
  },
  {
   "cell_type": "code",
   "execution_count": 17,
   "id": "7fb14e9b-a746-4518-a4e1-d4114de8aa42",
   "metadata": {},
   "outputs": [
    {
     "name": "stdout",
     "output_type": "stream",
     "text": [
      "value in the function is 3.14159\n"
     ]
    }
   ],
   "source": [
    "def value():\n",
    "    return 3.14159\n",
    "result=value()\n",
    "print(\"value in the function is\",result)"
   ]
  },
  {
   "cell_type": "code",
   "execution_count": 23,
   "id": "c50e0e67-9720-46d6-9949-d62224256780",
   "metadata": {},
   "outputs": [
    {
     "name": "stdin",
     "output_type": "stream",
     "text": [
      "enter the name:  teja\n"
     ]
    },
    {
     "name": "stdout",
     "output_type": "stream",
     "text": [
      "welcome teja\n"
     ]
    }
   ],
   "source": [
    "def get_name():\n",
    "    name=input(\"enter the name: \")\n",
    "    return name\n",
    "username= get_name()\n",
    "print(\"welcome\",username)"
   ]
  },
  {
   "cell_type": "code",
   "execution_count": 25,
   "id": "82b83f22-d781-4edd-bde9-a4605de8e055",
   "metadata": {},
   "outputs": [
    {
     "name": "stdout",
     "output_type": "stream",
     "text": [
      "100\n"
     ]
    }
   ],
   "source": [
    "a=100\n",
    "def value(a):\n",
    "    return a\n",
    "print(value(a))"
   ]
  },
  {
   "cell_type": "code",
   "execution_count": 27,
   "id": "5fa8c551-e00a-4b6e-ba88-37f54aa42762",
   "metadata": {},
   "outputs": [
    {
     "name": "stdout",
     "output_type": "stream",
     "text": [
      "120\n"
     ]
    }
   ],
   "source": [
    "a=100\n",
    "def value(a):\n",
    "    return a+20\n",
    "print(value(a))"
   ]
  },
  {
   "cell_type": "code",
   "execution_count": null,
   "id": "268a0dc9-6e5b-4a6e-87dc-e848778895d8",
   "metadata": {},
   "outputs": [],
   "source": []
  }
 ],
 "metadata": {
  "kernelspec": {
   "display_name": "Python 3 (ipykernel)",
   "language": "python",
   "name": "python3"
  },
  "language_info": {
   "codemirror_mode": {
    "name": "ipython",
    "version": 3
   },
   "file_extension": ".py",
   "mimetype": "text/x-python",
   "name": "python",
   "nbconvert_exporter": "python",
   "pygments_lexer": "ipython3",
   "version": "3.12.7"
  }
 },
 "nbformat": 4,
 "nbformat_minor": 5
}
