{
 "cells": [
  {
   "cell_type": "code",
   "execution_count": 11,
   "id": "02c43bff-1ecd-4033-b95d-2452cf8ee8fa",
   "metadata": {},
   "outputs": [
    {
     "name": "stdin",
     "output_type": "stream",
     "text": [
      "enter a number 4\n"
     ]
    },
    {
     "name": "stdout",
     "output_type": "stream",
     "text": [
      "factorial of 4 is  24\n"
     ]
    }
   ],
   "source": [
    "fact=1\n",
    "def factorial(n):\n",
    "    global fact\n",
    "    fact=1\n",
    "    for i in range(1,n+1):\n",
    "        fact *=i\n",
    "    return fact\n",
    "num=int(input(\"enter a number\"))\n",
    "if num<0:\n",
    "    print(\"cannot derive fact for negative numbers\")\n",
    "else:\n",
    "    factorial(num)\n",
    "    print(f\"factorial of {num} is \",fact)"
   ]
  },
  {
   "cell_type": "code",
   "execution_count": 13,
   "id": "aced2b19-ca3a-46ff-a5e1-acaee2af6935",
   "metadata": {},
   "outputs": [
    {
     "name": "stdin",
     "output_type": "stream",
     "text": [
      "enter a number -4\n"
     ]
    },
    {
     "name": "stdout",
     "output_type": "stream",
     "text": [
      "cannot derive fact for negative numbers\n"
     ]
    }
   ],
   "source": [
    "fact=1\n",
    "def factorial(n):\n",
    "    global fact\n",
    "    fact=1\n",
    "    for i in range(1,n+1):\n",
    "        fact *=i\n",
    "    return fact\n",
    "num=int(input(\"enter a number\"))\n",
    "if num<0:\n",
    "    print(\"cannot derive fact for negative numbers\")\n",
    "else:\n",
    "    factorial(num)\n",
    "    print(f\"factorial of {num} is \",fact)"
   ]
  },
  {
   "cell_type": "code",
   "execution_count": 15,
   "id": "ad9007ce-5420-48c3-832e-5ae16962a1f2",
   "metadata": {},
   "outputs": [
    {
     "name": "stdin",
     "output_type": "stream",
     "text": [
      "enter a value: 4\n"
     ]
    },
    {
     "name": "stdout",
     "output_type": "stream",
     "text": [
      "24\n"
     ]
    }
   ],
   "source": [
    "'''recursive funtion'''\n",
    "def factorial(n):\n",
    "    if n==0 or n==1:\n",
    "        return 1\n",
    "    return n * factorial(n-1)\n",
    "num=int(input(\"enter a value:\"))\n",
    "value =factorial(num)\n",
    "print(value)\n"
   ]
  },
  {
   "cell_type": "code",
   "execution_count": 17,
   "id": "44dc6499-fbea-4dfa-91c1-1dc2383f20d2",
   "metadata": {},
   "outputs": [
    {
     "name": "stdin",
     "output_type": "stream",
     "text": [
      "enter n: 3\n"
     ]
    },
    {
     "name": "stdout",
     "output_type": "stream",
     "text": [
      "sum of first 3 natural number is 6\n"
     ]
    }
   ],
   "source": [
    "def nsum(n):\n",
    "    if n==0:\n",
    "        return 0\n",
    "    return n+nsum(n-1)\n",
    "        \n",
    "num=int(input(\"enter n:\"))\n",
    "print(\"sum of first\",num,\"natural number is\",nsum(num))"
   ]
  },
  {
   "cell_type": "code",
   "execution_count": 4,
   "id": "73df1b19-df65-4995-9a6f-693b17744a72",
   "metadata": {},
   "outputs": [
    {
     "name": "stdin",
     "output_type": "stream",
     "text": [
      "enter a word teja\n"
     ]
    },
    {
     "name": "stdout",
     "output_type": "stream",
     "text": [
      "ajet\n"
     ]
    }
   ],
   "source": [
    "def rstring(s):\n",
    "    if len(s)==0:\n",
    "        return s\n",
    "    return rstring(s[1:])+s[0]\n",
    "\n",
    "text=input(\"enter a word\")\n",
    "print(rstring(text))"
   ]
  },
  {
   "cell_type": "code",
   "execution_count": 6,
   "id": "54502b41-50e7-4feb-a50f-defa8720276e",
   "metadata": {},
   "outputs": [
    {
     "name": "stdin",
     "output_type": "stream",
     "text": [
      "enter a word teja\n"
     ]
    },
    {
     "name": "stdout",
     "output_type": "stream",
     "text": [
      "ajet\n"
     ]
    }
   ],
   "source": [
    "text=input(\"enter a word\")\n",
    "print(rstring(text))"
   ]
  },
  {
   "cell_type": "code",
   "execution_count": 12,
   "id": "e2ea2dd0-5c99-4f6f-b291-5aef535e37ab",
   "metadata": {},
   "outputs": [
    {
     "name": "stdout",
     "output_type": "stream",
     "text": [
      "1\n",
      "2\n",
      "3\n",
      "4\n",
      "5\n",
      "6\n",
      "7\n",
      "8\n",
      "9\n"
     ]
    }
   ],
   "source": [
    "for i in range(1,10):\n",
    "  print(i)"
   ]
  },
  {
   "cell_type": "code",
   "execution_count": 16,
   "id": "5b6d0956-8d3a-47ac-b6d0-bbce01fca166",
   "metadata": {},
   "outputs": [
    {
     "name": "stdout",
     "output_type": "stream",
     "text": [
      "5\n",
      "55\n"
     ]
    }
   ],
   "source": [
    "'''positional arg- *arg'''\n",
    "\n",
    "def sumnum(*args):\n",
    "    print(args[4])\n",
    "    return sum(args)\n",
    "print(sumnum(1,2,3,4,5,6,7,8,9,10))"
   ]
  },
  {
   "cell_type": "code",
   "execution_count": 18,
   "id": "95ad9cd4-5b9c-40ef-89f3-1f8ce97cb1b2",
   "metadata": {},
   "outputs": [
    {
     "name": "stdout",
     "output_type": "stream",
     "text": [
      "7\n",
      "55\n"
     ]
    }
   ],
   "source": [
    "def sumnum(*args):\n",
    "    print(args[6])\n",
    "    return sum(args)\n",
    "print(sumnum(1,2,3,4,5,6,7,8,9,10))"
   ]
  },
  {
   "cell_type": "code",
   "execution_count": 20,
   "id": "1bb79345-9be1-438e-9379-b285d6fb8a50",
   "metadata": {},
   "outputs": [
    {
     "name": "stdout",
     "output_type": "stream",
     "text": [
      "50\n",
      "80\n"
     ]
    }
   ],
   "source": [
    "def sumnum(*args):\n",
    "    print(args[2])\n",
    "    return sum(args)\n",
    "print(sumnum(-22,20,50,32))"
   ]
  },
  {
   "cell_type": "code",
   "execution_count": 22,
   "id": "2de50312-5940-4042-82a2-c79f31b58140",
   "metadata": {},
   "outputs": [
    {
     "name": "stdout",
     "output_type": "stream",
     "text": [
      "5\n",
      "55\n"
     ]
    }
   ],
   "source": [
    "def mathnum(*args):\n",
    "    print(args[4])\n",
    "    return sum(args)\n",
    "print(mathnum(1,2,3,4,5,6,7,8,9,10))"
   ]
  },
  {
   "cell_type": "code",
   "execution_count": 32,
   "id": "5f70e63f-5e43-44e3-9fe3-12b2b5ebbcdb",
   "metadata": {},
   "outputs": [
    {
     "name": "stdout",
     "output_type": "stream",
     "text": [
      "3\n",
      "55\n"
     ]
    }
   ],
   "source": [
    "def num(*args):\n",
    "    print(args[4])\n",
    "    return max(args)\n",
    "print(sumnum(1,2,3,4,5,6,7,8,9,10))"
   ]
  },
  {
   "cell_type": "code",
   "execution_count": 50,
   "id": "8cd5df9a-a0d0-4e75-830a-32547aa114c0",
   "metadata": {},
   "outputs": [
    {
     "name": "stdout",
     "output_type": "stream",
     "text": [
      "2\n",
      "1\n"
     ]
    }
   ],
   "source": [
    "def sumnum(*args):\n",
    "    print(args[1])\n",
    "    return min(args)\n",
    "print(sumnum(1,2,3,4,5,6,7,8,9,10))\n"
   ]
  },
  {
   "cell_type": "code",
   "execution_count": 44,
   "id": "33774fb6-0135-45e9-aeef-e294e20db218",
   "metadata": {},
   "outputs": [
    {
     "name": "stdout",
     "output_type": "stream",
     "text": [
      "name:teja\n",
      "age:20\n",
      "cgpa:7.5\n"
     ]
    }
   ],
   "source": [
    "'''keyword args **kwargs'''\n",
    "def info(**kwargs):\n",
    "    for key,value in kwargs.items():\n",
    "        print(f\"{key}:{value}\")\n",
    "info(name='teja',age=20,cgpa=7.5)"
   ]
  },
  {
   "cell_type": "code",
   "execution_count": 56,
   "id": "d7c1c331-4176-4df1-9355-e59105105d87",
   "metadata": {},
   "outputs": [
    {
     "name": "stdout",
     "output_type": "stream",
     "text": [
      "name:teja\n",
      "age:20\n",
      "cgpa:7.5\n",
      "name:teja\n"
     ]
    }
   ],
   "source": [
    "'''keyword args **kwargs'''\n",
    "def info(**kwargs):\n",
    "    for key,value in kwargs.items():\n",
    "        print(f\"{key}:{value}\")\n",
    "    name=kwargs[\"name\"]\n",
    "    print(f\"name:{name}\")\n",
    "info(name='teja',age=20,cgpa=7.5)"
   ]
  },
  {
   "cell_type": "code",
   "execution_count": 60,
   "id": "4d652874-f737-41db-b888-d5a41d818453",
   "metadata": {},
   "outputs": [
    {
     "name": "stdout",
     "output_type": "stream",
     "text": [
      "name:teja\n",
      "age:20\n",
      "cgpa:7.5\n",
      "name:teja\n"
     ]
    }
   ],
   "source": [
    "'''keyword args **kwargs'''\n",
    "def info(**kwargs):\n",
    "    for key,value in kwargs.items():\n",
    "        print(f\"{key}:{value}\")\n",
    "    name=kwargs[\"name\"]\n",
    "    print(f\"name:{name}\")\n",
    "info(name='teja',age=20,cgpa=7.5)"
   ]
  },
  {
   "cell_type": "code",
   "execution_count": 62,
   "id": "511654a5-bec4-407d-8148-5403900f589d",
   "metadata": {},
   "outputs": [
    {
     "name": "stdout",
     "output_type": "stream",
     "text": [
      "keys: dict_keys(['name', 'age', 'cgpa'])\n"
     ]
    }
   ],
   "source": [
    "'''keyword args **kwargs'''\n",
    "def info(**kwargs):\n",
    "    print(\"keys:\",kwargs.keys()) \n",
    "info(name='teja',age=20,cgpa=7.5)"
   ]
  },
  {
   "cell_type": "code",
   "execution_count": 64,
   "id": "0203c753-d136-4bf4-b33a-02ab151e64a7",
   "metadata": {},
   "outputs": [
    {
     "name": "stdout",
     "output_type": "stream",
     "text": [
      "keys: dict_keys(['name', 'age', 'cgpa'])\n",
      "--------------\n",
      "name\n",
      "age\n",
      "cgpa\n"
     ]
    }
   ],
   "source": [
    "'''keyword args **kwargs'''\n",
    "def info(**kwargs):\n",
    "    print(\"keys:\",kwargs.keys()) \n",
    "    print(\"--------------\")\n",
    "    for values in kwargs:\n",
    "        print(values)\n",
    "info(name='teja',age=20,cgpa=7.5)"
   ]
  },
  {
   "cell_type": "code",
   "execution_count": 66,
   "id": "9cf37063-a959-4c53-a462-a1ed811c3d5e",
   "metadata": {},
   "outputs": [
    {
     "name": "stdout",
     "output_type": "stream",
     "text": [
      "values: dict_keys(['name', 'age', 'cgpa'])\n",
      "--------------\n",
      "('name', 'teja')\n",
      "('age', 20)\n",
      "('cgpa', 7.5)\n"
     ]
    }
   ],
   "source": [
    "'''keyword args **kwargs'''\n",
    "def info(**kwargs):\n",
    "    print(\"values:\",kwargs.keys()) \n",
    "    print(\"--------------\")\n",
    "    for values in kwargs.items():\n",
    "        print(values)\n",
    "info(name='teja',age=20,cgpa=7.5)"
   ]
  },
  {
   "cell_type": "code",
   "execution_count": 68,
   "id": "cda9faa9-5f01-47b5-ad02-5aef69ce4717",
   "metadata": {},
   "outputs": [
    {
     "name": "stdout",
     "output_type": "stream",
     "text": [
      "Fibonacci sequence up to 10 terms:\n",
      "0 1 1 2 3 5 8 13 21 34 "
     ]
    }
   ],
   "source": [
    "''' print 10 fiboncci umbers using direct recursion'''\n",
    "def print_fibonacci_numbers(n):\n",
    "    a, b = 0, 1\n",
    "    count = 0\n",
    "    if n <= 0:\n",
    "        print(\"Please enter a positive integer.\")\n",
    "    elif n == 1:\n",
    "        print(\"Fibonacci sequence up to 1 term:\")\n",
    "        print(a)\n",
    "    else:\n",
    "        print(f\"Fibonacci sequence up to {n} terms:\")\n",
    "        while count < n:\n",
    "            print(a, end=\" \")\n",
    "            nth = a + b\n",
    "            a = b\n",
    "            b = nth\n",
    "            count += 1\n",
    "print_fibonacci_numbers(10)"
   ]
  },
  {
   "cell_type": "code",
   "execution_count": null,
   "id": "8e814807-bbe2-4990-8535-86563cd4f2bf",
   "metadata": {},
   "outputs": [],
   "source": []
  }
 ],
 "metadata": {
  "kernelspec": {
   "display_name": "Python 3 (ipykernel)",
   "language": "python",
   "name": "python3"
  },
  "language_info": {
   "codemirror_mode": {
    "name": "ipython",
    "version": 3
   },
   "file_extension": ".py",
   "mimetype": "text/x-python",
   "name": "python",
   "nbconvert_exporter": "python",
   "pygments_lexer": "ipython3",
   "version": "3.12.7"
  }
 },
 "nbformat": 4,
 "nbformat_minor": 5
}
