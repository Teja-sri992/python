{
 "cells": [
  {
   "cell_type": "code",
   "execution_count": 5,
   "id": "69dd2c25-1fcc-468a-b5c8-4691defc8819",
   "metadata": {},
   "outputs": [
    {
     "name": "stdout",
     "output_type": "stream",
     "text": [
      "this is a outer funtion......\n",
      "this  is an inner function......\n"
     ]
    }
   ],
   "source": [
    "def outer ():\n",
    "    print(\"this is a outer funtion......\")\n",
    "    def inner():\n",
    "        print(\"this  is an inner function......\")\n",
    "    inner()\n",
    "outer()"
   ]
  },
  {
   "cell_type": "code",
   "execution_count": 7,
   "id": "bb65d2c4-5462-4b77-9583-760675893c67",
   "metadata": {},
   "outputs": [
    {
     "name": "stdin",
     "output_type": "stream",
     "text": [
      "enter a number: 3\n",
      "enter a number: 2\n"
     ]
    },
    {
     "name": "stdout",
     "output_type": "stream",
     "text": [
      "addition 5\n",
      "subtract 1\n",
      "product 6\n"
     ]
    }
   ],
   "source": [
    "def cal(a,b):\n",
    "    def add():\n",
    "        return a+b\n",
    "    def sub():\n",
    "        return a-b\n",
    "    def mul():\n",
    "        return a*b\n",
    "    print(\"addition\",add())\n",
    "    print(\"subtract\",sub())\n",
    "    print(\"product\",mul())\n",
    "a=int(input(\"enter a number:\"))\n",
    "b=int(input(\"enter a number:\"))\n",
    "cal(a,b)"
   ]
  },
  {
   "cell_type": "code",
   "execution_count": 13,
   "id": "8d814ee4-f65b-4f03-8220-cdfb250120c4",
   "metadata": {},
   "outputs": [
    {
     "name": "stdout",
     "output_type": "stream",
     "text": [
      "10\n",
      "15\n"
     ]
    }
   ],
   "source": [
    "def mul_by(n):\n",
    "    def inner(x):\n",
    "        return x*n\n",
    "    return inner\n",
    "times_2=mul_by(2)\n",
    "times_3=mul_by(3)\n",
    "print(times_2(5))\n",
    "print(times_3(5))"
   ]
  },
  {
   "cell_type": "code",
   "execution_count": 19,
   "id": "bab43e86-b3f7-44cb-98c8-d74f3e8c5cd8",
   "metadata": {},
   "outputs": [
    {
     "name": "stdout",
     "output_type": "stream",
     "text": [
      "hello,teja!!!!!!\n"
     ]
    }
   ],
   "source": [
    "def greet(text):\n",
    "    def inner (name):\n",
    "        return f\"{text},{name}!!!!!!\"\n",
    "    return inner\n",
    "hi= greet('hello')\n",
    "print(hi('teja'))"
   ]
  },
  {
   "cell_type": "code",
   "execution_count": 24,
   "id": "9f139561-5015-4f51-9eef-473481ad95d6",
   "metadata": {},
   "outputs": [
    {
     "name": "stdout",
     "output_type": "stream",
     "text": [
      "10\n",
      "30\n"
     ]
    }
   ],
   "source": [
    "def mul_by(n):\n",
    "    def inner(x): #call inner funtion x=5\n",
    "        return x*n # x*2 x*3\n",
    "    return inner\n",
    "times_2=mul_by(2) #n=2\n",
    "times_3=mul_by(3) #n=3\n",
    "print(times_2(5))\n",
    "print(times_3(10))"
   ]
  },
  {
   "cell_type": "code",
   "execution_count": 34,
   "id": "a5e121d8-1205-4293-b38d-de03ef0ab2eb",
   "metadata": {},
   "outputs": [
    {
     "name": "stdout",
     "output_type": "stream",
     "text": [
      "hello, mr.vijay\n",
      "hello, dr.janson\n"
     ]
    }
   ],
   "source": [
    " def titled(title):\n",
    "     def greet(name):\n",
    "         return f\"hello, {title}{name}\"\n",
    "     return greet\n",
    "mr_greet=titled(\"mr.\")\n",
    "dr_greet=titled(\"dr.\")\n",
    "print(mr_greet(\"vijay\"))\n",
    "print(dr_greet(\"janson\"))\n"
   ]
  },
  {
   "cell_type": "code",
   "execution_count": 36,
   "id": "8a4c5ade-a9f8-48e3-9294-a53ddb2555f5",
   "metadata": {},
   "outputs": [
    {
     "name": "stdout",
     "output_type": "stream",
     "text": [
      "x=  22\n",
      "x= 100\n",
      "25\n"
     ]
    }
   ],
   "source": [
    "x=100\n",
    "def display():\n",
    "    x=22\n",
    "    print(\"x= \",x)\n",
    "display()\n",
    "print(\"x=\", x)\n",
    "y=10\n",
    "y=25\n",
    "print(y)"
   ]
  },
  {
   "cell_type": "code",
   "execution_count": 40,
   "id": "e05cdb1f-2f26-4481-9aae-51d1c4fe18d8",
   "metadata": {},
   "outputs": [
    {
     "name": "stdout",
     "output_type": "stream",
     "text": [
      "x=  22\n",
      "locally 32\n",
      "x= 100\n",
      "latest value of y globally: 25\n",
      "globally 125\n"
     ]
    }
   ],
   "source": [
    "x=100\n",
    "y=10\n",
    "def display():\n",
    "    x=22\n",
    "    print(\"x= \",x)\n",
    "    print(\"locally\", x+y)\n",
    "display()\n",
    "print(\"x=\", x)\n",
    "y=10\n",
    "y=25\n",
    "print(\"latest value of y globally:\",y)\n",
    "print(\"globally\",x+y)"
   ]
  },
  {
   "cell_type": "code",
   "execution_count": 51,
   "id": "7cc7504b-d34b-4a2e-b9ec-eb8257826c56",
   "metadata": {},
   "outputs": [
    {
     "name": "stdin",
     "output_type": "stream",
     "text": [
      "enter marks of a subject: 30\n"
     ]
    },
    {
     "name": "stdout",
     "output_type": "stream",
     "text": [
      "subject1 marks: 30\n"
     ]
    },
    {
     "name": "stdin",
     "output_type": "stream",
     "text": [
      "enter marks of a subject: 22\n"
     ]
    },
    {
     "name": "stdout",
     "output_type": "stream",
     "text": [
      "subject2 marks: 22\n"
     ]
    },
    {
     "name": "stdin",
     "output_type": "stream",
     "text": [
      "enter marks of a subject: 28\n"
     ]
    },
    {
     "name": "stdout",
     "output_type": "stream",
     "text": [
      "subject3 marks: 28\n",
      "total marks stored in global: 80\n"
     ]
    }
   ],
   "source": [
    "total=0\n",
    "def add_subject_marks():\n",
    "    global total\n",
    "    marks= int(input(\"enter marks of a subject:\"))\n",
    "    total+=marks\n",
    "    return marks\n",
    "print(\"subject1 marks:\",add_subject_marks())\n",
    "print(\"subject2 marks:\",add_subject_marks())\n",
    "print(\"subject3 marks:\",add_subject_marks())\n",
    "print(\"total marks stored in global:\",total)"
   ]
  },
  {
   "cell_type": "code",
   "execution_count": 54,
   "id": "4f58fdf6-9950-4ce0-92e6-8750f0c3b1d9",
   "metadata": {},
   "outputs": [
    {
     "name": "stdin",
     "output_type": "stream",
     "text": [
      "enter marks of a subject: 100\n"
     ]
    },
    {
     "name": "stdout",
     "output_type": "stream",
     "text": [
      "subject1 marks: 100\n",
      "total marks stored in global: 100\n"
     ]
    },
    {
     "name": "stdin",
     "output_type": "stream",
     "text": [
      "enter marks of a subject: 80\n"
     ]
    },
    {
     "name": "stdout",
     "output_type": "stream",
     "text": [
      "subject2 marks: 80\n",
      "total marks stored in global: 180\n"
     ]
    },
    {
     "name": "stdin",
     "output_type": "stream",
     "text": [
      "enter marks of a subject: 100\n"
     ]
    },
    {
     "name": "stdout",
     "output_type": "stream",
     "text": [
      "subject3 marks: 100\n",
      "total marks stored in global: 280\n"
     ]
    }
   ],
   "source": [
    "total=0\n",
    "def add_subject_marks():\n",
    "    global total\n",
    "    marks= int(input(\"enter marks of a subject:\"))\n",
    "    total+=marks\n",
    "    return marks\n",
    "print(\"subject1 marks:\",add_subject_marks())\n",
    "print(\"total marks stored in global:\",total)\n",
    "\n",
    "print(\"subject2 marks:\",add_subject_marks())\n",
    "print(\"total marks stored in global:\",total)\n",
    "\n",
    "print(\"subject3 marks:\",add_subject_marks())\n",
    "print(\"total marks stored in global:\",total)\n",
    "\n"
   ]
  },
  {
   "cell_type": "code",
   "execution_count": null,
   "id": "24a428e7-079d-4ae6-a754-38ffd1905ab4",
   "metadata": {},
   "outputs": [],
   "source": [
    "subject_marks= []\n",
    "def add_subject_marks():\n",
    "    marks= int(input(\"enter marks of a subject:\"))\n",
    "    subject_marks.append(marks)\n",
    "    return mark\n",
    "print(\"subject 1 marks:\",add_subject_marks())\n",
    "print(\"subject 2 marks:\",add_subject_marks())\n",
    "print(\"subject 3 marks:\",add_subject_marks())\n",
    "print(\"allsubject marks\",subject_marks)\n",
    "total=sum(subject_marks)\n",
    "l=len(subject_marks)\n",
    "avg=total/1\n",
    "print(\"total marks\",total)\n",
    "print(\"average\",avg)"
   ]
  },
  {
   "cell_type": "code",
   "execution_count": null,
   "id": "a760b40a-2c9d-419e-82fa-0edc3355bbce",
   "metadata": {},
   "outputs": [],
   "source": []
  }
 ],
 "metadata": {
  "kernelspec": {
   "display_name": "Python 3 (ipykernel)",
   "language": "python",
   "name": "python3"
  },
  "language_info": {
   "codemirror_mode": {
    "name": "ipython",
    "version": 3
   },
   "file_extension": ".py",
   "mimetype": "text/x-python",
   "name": "python",
   "nbconvert_exporter": "python",
   "pygments_lexer": "ipython3",
   "version": "3.12.7"
  }
 },
 "nbformat": 4,
 "nbformat_minor": 5
}
